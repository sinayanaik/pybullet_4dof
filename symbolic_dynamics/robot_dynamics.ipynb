{
  "cells": [
    {
      "cell_type": "code",
      "execution_count": 4,
      "metadata": {},
      "outputs": [
        {
          "data": {
            "application/vnd.jupyter.widget-view+json": {
              "model_id": "fc348c25b1eb4617b0c01aeb018cba39",
              "version_major": 2,
              "version_minor": 0
            },
            "text/plain": [
              "VBox(children=(IntSlider(value=0, description='θ2 [deg]', max=180, min=-180, step=5), IntSlider(value=0, descr…"
            ]
          },
          "metadata": {},
          "output_type": "display_data"
        }
      ],
      "source": [
        "import numpy as np\n",
        "import matplotlib.pyplot as plt\n",
        "from ipywidgets import interact, widgets\n",
        "from IPython.display import display, clear_output\n",
        "\n",
        "def update_plot(theta2, theta3, theta4):\n",
        "    # Clear previous plot\n",
        "    clear_output(wait=True)\n",
        "    \n",
        "    # Link lengths\n",
        "    L = [0.27, 0.15, 0.15, 0.10]\n",
        "    \n",
        "    # Calculate joint positions\n",
        "    x = [0, 0]  # Base and first joint (vertical)\n",
        "    z = [0, L[0]]\n",
        "    \n",
        "    # Convert angles to radians\n",
        "    th2 = np.radians(theta2)\n",
        "    th3 = np.radians(theta3)\n",
        "    th4 = np.radians(theta4)\n",
        "    \n",
        "    # Joint 2\n",
        "    x.append(x[1] + L[1] * np.sin(th2))\n",
        "    z.append(z[1] + L[1] * np.cos(th2))\n",
        "    \n",
        "    # Joint 3\n",
        "    x.append(x[2] + L[2] * np.sin(th2 + th3))\n",
        "    z.append(z[2] + L[2] * np.cos(th2 + th3))\n",
        "    \n",
        "    # End effector\n",
        "    x.append(x[3] + L[3] * np.sin(th2 + th3 + th4))\n",
        "    z.append(z[3] + L[3] * np.cos(th2 + th3 + th4))\n",
        "    \n",
        "    # Create plot\n",
        "    plt.figure(figsize=(8, 8))\n",
        "    colors = ['black', 'blue', 'green', 'red']\n",
        "    \n",
        "    # Plot links\n",
        "    for i in range(4):\n",
        "        plt.plot([x[i], x[i+1]], [z[i], z[i+1]], c=colors[i], linewidth=2, label=f'Link {i+1}')\n",
        "    \n",
        "    # Plot joints\n",
        "    plt.scatter(x, z, c=colors + ['red'], s=100)\n",
        "    \n",
        "    # Plot settings\n",
        "    plt.grid(True)\n",
        "    plt.axis('equal')\n",
        "    plt.xlim([-0.8, 0.8])\n",
        "    plt.ylim([-0.1, 0.8])\n",
        "    plt.title(f'Joint Angles: θ2={theta2}°, θ3={theta3}°, θ4={theta4}°\\nEnd-effector: ({x[-1]:.2f}, {z[-1]:.2f})')\n",
        "    plt.xlabel('X [m]')\n",
        "    plt.ylabel('Z [m]')\n",
        "    plt.legend()\n",
        "    plt.show()\n",
        "\n",
        "# Create sliders\n",
        "theta2_slider = widgets.IntSlider(value=0, min=-180, max=180, step=5, description='θ2 [deg]')\n",
        "theta3_slider = widgets.IntSlider(value=0, min=-180, max=180, step=5, description='θ3 [deg]')\n",
        "theta4_slider = widgets.IntSlider(value=0, min=-180, max=180, step=5, description='θ4 [deg]')\n",
        "\n",
        "# Create interactive widget\n",
        "out = widgets.interactive_output(update_plot, {'theta2': theta2_slider, \n",
        "                                             'theta3': theta3_slider, \n",
        "                                             'theta4': theta4_slider})\n",
        "\n",
        "# Display widgets and plot\n",
        "display(widgets.VBox([theta2_slider, theta3_slider, theta4_slider, out]))\n"
      ]
    }
  ],
  "metadata": {
    "kernelspec": {
      "display_name": "Python 3",
      "language": "python",
      "name": "python3"
    },
    "language_info": {
      "codemirror_mode": {
        "name": "ipython",
        "version": 3
      },
      "file_extension": ".py",
      "mimetype": "text/x-python",
      "name": "python",
      "nbconvert_exporter": "python",
      "pygments_lexer": "ipython3",
      "version": "3.12.3"
    }
  },
  "nbformat": 4,
  "nbformat_minor": 2
}
